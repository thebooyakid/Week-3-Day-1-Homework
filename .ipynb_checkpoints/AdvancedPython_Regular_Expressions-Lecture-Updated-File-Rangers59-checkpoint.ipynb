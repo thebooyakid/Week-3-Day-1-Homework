{
 "cells": [
  {
   "cell_type": "markdown",
   "metadata": {},
   "source": [
    "# Regular Expressions"
   ]
  },
  {
   "cell_type": "markdown",
   "metadata": {},
   "source": [
    "# Tasks today:\n",
    "1) <b>Importing</b> <br>\n",
    "2) <b>Using Regular Expressions</b> <br>\n",
    " &nbsp;&nbsp;&nbsp;&nbsp; a) re.compile() <br>\n",
    " &nbsp;&nbsp;&nbsp;&nbsp; b) re.match() <br>\n",
    " &nbsp;&nbsp;&nbsp;&nbsp; c) re.findall() <br>\n",
    " &nbsp;&nbsp;&nbsp;&nbsp; d) re.search() <br>\n",
    "3) <b>Sets</b> <br>\n",
    " &nbsp;&nbsp;&nbsp;&nbsp; a) Integer Ranges <br>\n",
    " &nbsp;&nbsp;&nbsp;&nbsp; b) Character Ranges <br>\n",
    "4) <b>Counting Occurences</b> <br>\n",
    " &nbsp;&nbsp;&nbsp;&nbsp; a) {x} <br>\n",
    " &nbsp;&nbsp;&nbsp;&nbsp; b) {, x} <br>\n",
    " &nbsp;&nbsp;&nbsp;&nbsp; c) {?} <br>\n",
    " &nbsp;&nbsp;&nbsp;&nbsp; d) {*} <br>\n",
    " &nbsp;&nbsp;&nbsp;&nbsp; e) {+} <br>\n",
    "5) <b>In-Class Exercise #1</b> <br>\n",
    "6) <b>Escaping Characters</b> <br>\n",
    "7) <b>Grouping</b> <br>\n",
    "8) <b>In-Class Exercise #2</b> <br>\n",
    "9) <b>Opening a File</b> <br>\n",
    " &nbsp;&nbsp;&nbsp;&nbsp; a) open() <br>\n",
    " &nbsp;&nbsp;&nbsp;&nbsp; b) with open() <br>\n",
    " &nbsp;&nbsp;&nbsp;&nbsp; c) re.match() <br>\n",
    " &nbsp;&nbsp;&nbsp;&nbsp; d) re.search() <br>\n",
    " &nbsp;&nbsp;&nbsp;&nbsp; e) Store the String in a Variable <br>\n",
    "10) <b>Regex Project</b> <br>"
   ]
  },
  {
   "cell_type": "markdown",
   "metadata": {},
   "source": [
    "### Importing <br>\n",
    "<p>Regular Expressions are universal throughout most programming languages... They are generally imported through the module 're'.</p>"
   ]
  },
  {
   "cell_type": "code",
   "execution_count": 1,
   "metadata": {},
   "outputs": [],
   "source": [
    "# import re\n",
    "import re"
   ]
  },
  {
   "cell_type": "markdown",
   "metadata": {},
   "source": [
    "### Using Regular Expressions <br>\n",
    "<p>Regular expressions give us the ability to search for patterns within text, strings, files, etc. They serve several uses, such as; security measures, searching, filtering, pattern recognition, and more...</p>"
   ]
  },
  {
   "cell_type": "markdown",
   "metadata": {},
   "source": [
    "##### re.compile()"
   ]
  },
  {
   "cell_type": "code",
   "execution_count": 2,
   "metadata": {},
   "outputs": [],
   "source": [
    "# using compile, pre determines the string to be used in regular expression methods\n",
    "\n",
    "pattern = re.compile(\"abcd\")"
   ]
  },
  {
   "cell_type": "markdown",
   "metadata": {},
   "source": [
    "##### re.match()"
   ]
  },
  {
   "cell_type": "code",
   "execution_count": 5,
   "metadata": {},
   "outputs": [
    {
     "name": "stdout",
     "output_type": "stream",
     "text": [
      "<re.Match object; span=(0, 4), match='abcd'>\n",
      "(0, 4)\n"
     ]
    }
   ],
   "source": [
    "match = pattern.match(\"abcd123\")\n",
    "print(match)\n",
    "\n",
    "# Accessing the span of the match\n",
    "\n",
    "print(match.span())"
   ]
  },
  {
   "cell_type": "markdown",
   "metadata": {},
   "source": [
    "##### re.findall()"
   ]
  },
  {
   "cell_type": "code",
   "execution_count": 6,
   "metadata": {},
   "outputs": [
    {
     "name": "stdout",
     "output_type": "stream",
     "text": [
      "['abcd', 'abcd']\n"
     ]
    }
   ],
   "source": [
    "finders = pattern.findall('123abcd abcd123 abdc abcabc acb')\n",
    "print(finders)"
   ]
  },
  {
   "cell_type": "markdown",
   "metadata": {},
   "source": [
    "##### re.search()"
   ]
  },
  {
   "cell_type": "code",
   "execution_count": 11,
   "metadata": {},
   "outputs": [
    {
     "name": "stdout",
     "output_type": "stream",
     "text": [
      "<re.Match object; span=(12, 16), match='abcd'>\n",
      "(12, 16) <class 'tuple'>\n",
      "abcd\n",
      "abcd\n"
     ]
    }
   ],
   "source": [
    "random_string = '123 123 234 abcd abc'\n",
    "\n",
    "search = pattern.search(random_string)\n",
    "print(search)\n",
    "span = search.span()\n",
    "print(span, type(span))\n",
    "print(random_string[span[0]: span[1]])\n",
    "print(random_string[12:16])"
   ]
  },
  {
   "cell_type": "markdown",
   "metadata": {},
   "source": [
    "### Sets <br>\n",
    "<p>The following cells will allow you to use regular expressions to search for certain values within a range such as numbers 1 through 4.</p>"
   ]
  },
  {
   "cell_type": "markdown",
   "metadata": {},
   "source": [
    "##### [a-z] or [A-Z] - any lowercase/uppercase letters from a to z<br/>[^2] - anything that's not 2"
   ]
  },
  {
   "cell_type": "markdown",
   "metadata": {},
   "source": [
    "##### Integer Ranges"
   ]
  },
  {
   "cell_type": "code",
   "execution_count": 16,
   "metadata": {},
   "outputs": [
    {
     "name": "stdout",
     "output_type": "stream",
     "text": [
      "673\n",
      "['673']\n"
     ]
    }
   ],
   "source": [
    "pattern_int = re.compile('[0-7][7-9][0-3]')\n",
    "random_numbers = pattern_int.search('67383f')\n",
    "span = random_numbers.span()\n",
    "print(random_numbers[span[0]])\n",
    "\n",
    "find_randoms = pattern_int.findall('67383')\n",
    "print(find_randoms)"
   ]
  },
  {
   "cell_type": "markdown",
   "metadata": {},
   "source": [
    "##### Character Ranges"
   ]
  },
  {
   "cell_type": "code",
   "execution_count": 20,
   "metadata": {},
   "outputs": [
    {
     "name": "stdout",
     "output_type": "stream",
     "text": [
      "['He', 'Th', 'Mr', 'An']\n"
     ]
    }
   ],
   "source": [
    "char_pattern = re.compile('[A-Z][a-z]')\n",
    "found = char_pattern.findall('Hello There Mr. Anderson')\n",
    "print(found)"
   ]
  },
  {
   "cell_type": "markdown",
   "metadata": {},
   "source": [
    "### Counting Occurences"
   ]
  },
  {
   "cell_type": "markdown",
   "metadata": {},
   "source": [
    "##### {x} - something that occurs {num_of_times}"
   ]
  },
  {
   "cell_type": "code",
   "execution_count": 26,
   "metadata": {},
   "outputs": [
    {
     "name": "stdout",
     "output_type": "stream",
     "text": [
      "['An23']\n"
     ]
    }
   ],
   "source": [
    "char_pattern_count = re.compile('[A-Z][a-z][0-3]{2}')\n",
    "found_count = char_pattern_count.findall('Hello There Mr. An23derson')\n",
    "print(found_count)"
   ]
  },
  {
   "cell_type": "markdown",
   "metadata": {},
   "source": [
    "##### {x, x} - something that occurs between x and x times"
   ]
  },
  {
   "cell_type": "code",
   "execution_count": 28,
   "metadata": {},
   "outputs": [
    {
     "name": "stdout",
     "output_type": "stream",
     "text": [
      "['m', 'm', 'm', 'mmm', 'mmmmm', 'mmmm']\n"
     ]
    }
   ],
   "source": [
    "random_pattern = re.compile('m{1,5}')\n",
    "random_statement = random_pattern.findall(' This is an example of a regular expression trying to find one m, more than on mmm or lots of mmmmmmmmms')\n",
    "print(random_statement)"
   ]
  },
  {
   "cell_type": "markdown",
   "metadata": {},
   "source": [
    "##### ? - something that occurs 0 or 1 time"
   ]
  },
  {
   "cell_type": "code",
   "execution_count": 29,
   "metadata": {},
   "outputs": [
    {
     "name": "stdout",
     "output_type": "stream",
     "text": [
      "['Mrs']\n"
     ]
    }
   ],
   "source": [
    "pattern = re.compile('Mrss?')\n",
    "found_pat = pattern.findall(\"Hello M there Mr. Anderson, Mayne how is Mrs. Anderson, and Ms. Anderson?\")\n",
    "print(found_pat)"
   ]
  },
  {
   "cell_type": "markdown",
   "metadata": {},
   "source": [
    "##### * - something that occurs at least 0 times"
   ]
  },
  {
   "cell_type": "code",
   "execution_count": 30,
   "metadata": {},
   "outputs": [
    {
     "name": "stdout",
     "output_type": "stream",
     "text": [
      "['MMMs', 's', 's', 's', 'Ms', 's', 's', 's', 's']\n"
     ]
    }
   ],
   "source": [
    "pattern_m = re.compile('M*s')\n",
    "found_m = pattern_m.findall(\"MMMs name is Mr. Smith. This is Msssss\")\n",
    "print(found_m)"
   ]
  },
  {
   "cell_type": "markdown",
   "metadata": {},
   "source": [
    "##### + - something that occurs at least once"
   ]
  },
  {
   "cell_type": "code",
   "execution_count": 33,
   "metadata": {},
   "outputs": [
    {
     "name": "stdout",
     "output_type": "stream",
     "text": [
      "['Ms', 'MMMMMMs']\n"
     ]
    }
   ],
   "source": [
    "pattern_again = re.compile('M+s')\n",
    "found_pat = pattern_again.findall('My name is Ms. Smith. This is MMMMMMsssss')\n",
    "print(found_pat)\n"
   ]
  },
  {
   "cell_type": "markdown",
   "metadata": {},
   "source": [
    "##### In-class exercise 1: \n",
    "\n",
    "Use a regular expression to find every number in the given string"
   ]
  },
  {
   "cell_type": "code",
   "execution_count": 50,
   "metadata": {
    "scrolled": true
   },
   "outputs": [
    {
     "name": "stdout",
     "output_type": "stream",
     "text": [
      "['108948', '1', '2']\n"
     ]
    }
   ],
   "source": [
    "my_string = re.compile('[0-9]+')\n",
    "found_num = my_string.findall(' This string has 108948 numbers, but is only 1 string. I hope you solve this 2day')\n",
    "print(found_num)"
   ]
  },
  {
   "cell_type": "markdown",
   "metadata": {},
   "source": [
    "### Escaping Characters"
   ]
  },
  {
   "cell_type": "markdown",
   "metadata": {},
   "source": [
    "##### \\w - look for any Unicode character<br/>\\W - look for anything that isnt a Unicode character\n",
    "\n",
    "[History on Unicode](http://unicode.org/standard/WhatIsUnicode.html)\n",
    "\n",
    "[More on Unicode Characters](https://en.wikipedia.org/wiki/List_of_Unicode_characters)"
   ]
  },
  {
   "cell_type": "code",
   "execution_count": 51,
   "metadata": {},
   "outputs": [
    {
     "name": "stdout",
     "output_type": "stream",
     "text": [
      "['This', 'is', 'a', 'sentence', 'With', 'an', 'exclamation', 'mark', 'at', 'the', 'end']\n",
      "[' ', ' ', ' ', '.', ' ', ' ', ' ', ' ', ' ', ' ', ' ', '!']\n"
     ]
    }
   ],
   "source": [
    "pattern_1 = re.compile('\\w+')\n",
    "pattern_2 = re.compile('[\\W]')\n",
    "found_1 = pattern_1.findall(\"This is a sentence. With an exclamation mark at the end!\")\n",
    "found_2 = pattern_2.findall(\"This is a sentence. With an exclamation mark at the end!\")\n",
    "print(found_1)\n",
    "print(found_2)"
   ]
  },
  {
   "cell_type": "markdown",
   "metadata": {},
   "source": [
    "##### \\d - look for any digit 0-9<br/>\\D - look for anything that isnt a digit"
   ]
  },
  {
   "cell_type": "code",
   "execution_count": 56,
   "metadata": {},
   "outputs": [
    {
     "name": "stdout",
     "output_type": "stream",
     "text": [
      "['7th', '27th', '3rd', '1st', '30th']\n"
     ]
    }
   ],
   "source": [
    "date_string = 'Today is the 7th, in 20 days it will be the 27th. 3rd, 1st, 30th'\n",
    "pattern_nums = re.compile('\\d{1,2}[a-z]{2}')\n",
    "found_date = pattern_nums.findall(date_string)\n",
    "print(found_date)\n"
   ]
  },
  {
   "cell_type": "markdown",
   "metadata": {},
   "source": [
    "##### \\s - look for any white space<br/>\\S - look for anything that isnt whitespace"
   ]
  },
  {
   "cell_type": "code",
   "execution_count": 60,
   "metadata": {},
   "outputs": [
    {
     "name": "stdout",
     "output_type": "stream",
     "text": [
      "[' ', ' ', ' ', ' ', ' ']\n",
      "['Are', 'you', 'afraid', 'of', 'the', 'dark']\n"
     ]
    }
   ],
   "source": [
    "pattern_no_spaces = re.compile('\\S[a-z]+')\n",
    "pattern_space = re.compile('\\s+')\n",
    "found_space = pattern_space.findall('Are you afraid of the dark?')\n",
    "not_space = pattern_no_spaces.findall('Are you afraid of the dark?')\n",
    "print(found_space)\n",
    "print(not_space)"
   ]
  },
  {
   "cell_type": "markdown",
   "metadata": {},
   "source": [
    "##### \\b - look for boundaries or edges of a word<br/>\\B - look for anything that isnt a boundary"
   ]
  },
  {
   "cell_type": "code",
   "execution_count": 63,
   "metadata": {},
   "outputs": [
    {
     "name": "stdout",
     "output_type": "stream",
     "text": [
      "['TheCodingTemple']\n",
      "[]\n"
     ]
    }
   ],
   "source": [
    "pattern_bound = re.compile(r'\\bTheCodingTemple\\b')\n",
    "pattern_bound_none = re.compile(r'\\BTheCodingTemple\\B')\n",
    "found_bound = pattern_bound.findall('TheCodingTemple')\n",
    "no_found_bound = pattern_bound_none.findall('TheCodingTemple')\n",
    "print(found_bound)\n",
    "print(no_found_bound)"
   ]
  },
  {
   "cell_type": "markdown",
   "metadata": {},
   "source": [
    "### Grouping"
   ]
  },
  {
   "cell_type": "code",
   "execution_count": 71,
   "metadata": {},
   "outputs": [
    {
     "name": "stdout",
     "output_type": "stream",
     "text": [
      "[('Max', 'Smith'), ('Sam', 'Darnold'), ('LeBron', 'James'), ('Michael', 'Jordan'), ('Kevin', 'Durant'), ('Patrik', 'McCormick')]\n",
      "('Max', 'Smith')\n",
      "Max\n",
      "Max Smith\n",
      "Max Smith\n",
      "Not a name\n",
      "('Sam', 'Darnold')\n",
      "Sam\n",
      "Sam Darnold\n",
      "Sam Darnold\n",
      "('LeBron', 'James')\n",
      "LeBron\n",
      "LeBron James\n",
      "LeBron James\n",
      "('Michael', 'Jordan')\n",
      "Michael\n",
      "Michael Jordan\n",
      "Michael Jordan\n",
      "('Kevin', 'Durant')\n",
      "Kevin\n",
      "Kevin Durant\n",
      "Kevin Durant\n",
      "('Patrik', 'McCormick')\n",
      "Patrik\n",
      "Patrik McCormick\n",
      "Patrik McCormick\n"
     ]
    }
   ],
   "source": [
    "my_name_string = 'Max Smith, aaron rogers, Sam Darnold, LeBron James, Michael Jordan, Kevin Durant, Patrik McCormick'\n",
    "#group of names RegEx compiler\n",
    "pattern_name = re.compile('([A-Z][a-zA-Za-z]+) ([A-Z][A-Za-z]+)')\n",
    "found_names = pattern_name.findall(my_name_string)\n",
    "print(found_names)\n",
    "for name in my_name_string.split(','):\n",
    "    match = pattern_name.search(name)\n",
    "    \n",
    "    if match:\n",
    "        print(match.groups())\n",
    "        print(match.group(1))\n",
    "        print(match.group(1),match.group(2))\n",
    "        print(match.group())\n",
    "    else:\n",
    "        print('Not a name')"
   ]
  },
  {
   "cell_type": "markdown",
   "metadata": {},
   "source": [
    "##### In-class Exercise 2:\n",
    "\n",
    "Write a function using regular expressions to find the domain name in the given email addresses (and return None for the invalid email addresses)<br><b>HINT: Use '|' for either or</b>"
   ]
  },
  {
   "cell_type": "code",
   "execution_count": 112,
   "metadata": {},
   "outputs": [
    {
     "name": "stdout",
     "output_type": "stream",
     "text": [
      "None\n",
      "pocohontas1776@gmail.com\n",
      "None\n",
      "yourfavoriteband@g6.org\n",
      "None\n"
     ]
    }
   ],
   "source": [
    "my_emails = [\"jordanw@codingtemple.orgcom\", \"pocohontas1776@gmail.com\", \"helloworld@aol..com\",\n",
    "             \"yourfavoriteband@g6.org\", \"@codingtemple.com\"]\n",
    "\n",
    "# You can also use the $ at the end of your compile expression -- this stops the search\n",
    "\n",
    "#.com OR .org => com|org\n",
    "\n",
    "#Expected output:\n",
    "#None\n",
    "#pocohontas1776@gmail.com\n",
    "#None\n",
    "#yourfavoriteband@g6.org\n",
    "#None\n",
    "\n",
    "def emailList(email):\n",
    "    valid = re.compile(\"([A-Za-z0-9]+)@([A-Za-z0-9]+)(.com|.org)$\")\n",
    "    if valid.match(email):\n",
    "        return email\n",
    "    else:\n",
    "        return None\n",
    "for email in my_emails:\n",
    "    print(emailList(email))\n",
    "\n",
    "\n"
   ]
  },
  {
   "cell_type": "markdown",
   "metadata": {},
   "source": [
    "### Opening a File <br>\n",
    "<p>Python gives us a couple ways to import files, below are the two used most often.</p>"
   ]
  },
  {
   "cell_type": "markdown",
   "metadata": {},
   "source": [
    "##### open()"
   ]
  },
  {
   "cell_type": "code",
   "execution_count": 89,
   "metadata": {},
   "outputs": [
    {
     "name": "stdout",
     "output_type": "stream",
     "text": [
      "Hawkins, Derek\tderek@codingtemple.com\t(555) 555-5555\tTeacher, Coding Temple\t@derekhawkins\n",
      "Zhai, Mo\tmozhai@codingtemple.com\t(555) 555-5554\tTeacher, Coding Temple\n",
      "Johnson, Joe\tjoejohnson@codingtemple.com\t\tJohson, Joe\n",
      "Osterberg, Sven-Erik\tgovernor@norrbotten.co.se\t\tGovernor, Norrbotten\t@sverik\n",
      ", Tim\ttim@killerrabbit.com\t\tEnchanter, Killer Rabbit Cave\n",
      "Butz, Ryan\tryanb@codingtemple.com\t(555) 555-5543\tCEO, Coding Temple\t@ryanbutz\n",
      "Doctor, The\tdoctor+companion@tardis.co.uk\t\tTime Lord, Gallifrey\n",
      "Exampleson, Example\tme@example.com\t555-555-5552\tExample, Example Co.\t@example\n",
      "Pael, Ripal\tripalp@codingtemple.com\t(555) 555-5553\tTeacher, Coding Temple\t@ripalp\n",
      "Vader, Darth\tdarth-vader@empire.gov\t(555) 555-4444\tSith Lord, Galactic Empire\t@darthvader\n",
      "Fernandez de la Vega Sanz, Maria Teresa\tmtfvs@spain.gov\t\tFirst Deputy Prime Minister, Spanish Gov\n",
      "\n"
     ]
    }
   ],
   "source": [
    "f = open('files/names.txt')\n",
    "data = f.read()\n",
    "print(data)\n",
    "\n",
    "f.close()"
   ]
  },
  {
   "cell_type": "markdown",
   "metadata": {},
   "source": [
    "##### with open()"
   ]
  },
  {
   "cell_type": "code",
   "execution_count": 90,
   "metadata": {},
   "outputs": [
    {
     "name": "stdout",
     "output_type": "stream",
     "text": [
      "Hawkins, Derek\tderek@codingtemple.com\t(555) 555-5555\tTeacher, Coding Temple\t@derekhawkins\n",
      "Zhai, Mo\tmozhai@codingtemple.com\t(555) 555-5554\tTeacher, Coding Temple\n",
      "Johnson, Joe\tjoejohnson@codingtemple.com\t\tJohson, Joe\n",
      "Osterberg, Sven-Erik\tgovernor@norrbotten.co.se\t\tGovernor, Norrbotten\t@sverik\n",
      ", Tim\ttim@killerrabbit.com\t\tEnchanter, Killer Rabbit Cave\n",
      "Butz, Ryan\tryanb@codingtemple.com\t(555) 555-5543\tCEO, Coding Temple\t@ryanbutz\n",
      "Doctor, The\tdoctor+companion@tardis.co.uk\t\tTime Lord, Gallifrey\n",
      "Exampleson, Example\tme@example.com\t555-555-5552\tExample, Example Co.\t@example\n",
      "Pael, Ripal\tripalp@codingtemple.com\t(555) 555-5553\tTeacher, Coding Temple\t@ripalp\n",
      "Vader, Darth\tdarth-vader@empire.gov\t(555) 555-4444\tSith Lord, Galactic Empire\t@darthvader\n",
      "Fernandez de la Vega Sanz, Maria Teresa\tmtfvs@spain.gov\t\tFirst Deputy Prime Minister, Spanish Gov\n",
      "\n"
     ]
    }
   ],
   "source": [
    "with open('files/names.txt') as f:\n",
    "    data = f.read()\n",
    "    print(data)"
   ]
  },
  {
   "cell_type": "markdown",
   "metadata": {},
   "source": [
    "##### re.match()"
   ]
  },
  {
   "cell_type": "code",
   "execution_count": 91,
   "metadata": {},
   "outputs": [
    {
     "name": "stdout",
     "output_type": "stream",
     "text": [
      "<re.Match object; span=(0, 14), match='Hawkins, Derek'>\n"
     ]
    }
   ],
   "source": [
    "print(re.match(r'Hawkins, Derek',data))"
   ]
  },
  {
   "cell_type": "markdown",
   "metadata": {},
   "source": [
    "##### re.search()"
   ]
  },
  {
   "cell_type": "code",
   "execution_count": 92,
   "metadata": {},
   "outputs": [
    {
     "name": "stdout",
     "output_type": "stream",
     "text": [
      "<re.Match object; span=(582, 605), match='ripalp@codingtemple.com'>\n"
     ]
    }
   ],
   "source": [
    "print(re.search(r'ripalp@codingtemple.com',data))"
   ]
  },
  {
   "cell_type": "markdown",
   "metadata": {},
   "source": [
    "##### Store the String to a Variable"
   ]
  },
  {
   "cell_type": "code",
   "execution_count": 94,
   "metadata": {},
   "outputs": [
    {
     "name": "stdout",
     "output_type": "stream",
     "text": [
      "What would you like to search for? derek\n",
      "I found your data: ['derek', 'derek']\n"
     ]
    }
   ],
   "source": [
    "answer = input(\"What would you like to search for? \")\n",
    "found = re.findall(answer,data)\n",
    "\n",
    "if found:\n",
    "    print(f'I found your data: {found}')\n",
    "else:\n",
    "    print(\"It ain't here boss..\")"
   ]
  },
  {
   "cell_type": "markdown",
   "metadata": {},
   "source": [
    "### In-Class Exercise #3 <br>\n",
    "<p>Print each persons name and twitter handle, using groups, should look like:</p>\n",
    "<p>==============<br>\n",
    "   Full Name / Twitter<br>\n",
    "   ==============</p>\n",
    "Derek Hawkins / @derekhawkins\n",
    "\n",
    " Erik Sven-Osterberg / @sverik\n",
    "\n",
    " Ryan Butz / @ryanbutz\n",
    "\n",
    " Example Exampleson / @example\n",
    "\n",
    " Ripal Pael / @ripalp\n",
    "\n",
    " Darth Vader / @darthvader"
   ]
  },
  {
   "cell_type": "code",
   "execution_count": 136,
   "metadata": {
    "scrolled": true
   },
   "outputs": [
    {
     "name": "stdout",
     "output_type": "stream",
     "text": [
      "[('Coding', 'Temple'), ('Coding', 'Temple'), ('Killer', 'Rabbit'), ('Coding', 'Temple'), ('Time', 'Lord'), ('Example', 'Co'), ('Coding', 'Temple'), ('Sith', 'Lord'), ('Galactic', 'Empire'), ('la', 'Vega'), ('Maria', 'Teresa'), ('First', 'Deputy'), ('Prime', 'Minister'), ('Spanish', 'Gov')]\n",
      "Coding Temple\n",
      "Coding Temple\n",
      "Killer Rabbit\n",
      "Coding Temple\n",
      "Time Lord\n",
      "Example Co\n",
      "Coding Temple\n",
      "Sith Lord\n",
      "Galactic Empire\n",
      "Maria Teresa\n",
      "Spanish Gov\n",
      "['derek@codingtemple.com', 'mozhai@codingtemple.com', 'joejohnson@codingtemple.com', 'governor@norrbotten.co.se', 'tim@killerrabbit.com', 'ryanb@codingtemple.com', 'doctor+companion@tardis.co.uk', 'me@example.com', 'ripalp@codingtemple.com', 'darth-vader@empire.gov', 'mtfvs@spain.gov']\n"
     ]
    }
   ],
   "source": [
    "name = re.compile('([A-Za-z][a-z]+) ([A-Z][a-z]+)')\n",
    "email = re.compile(\"\\S+@\\S+\")\n",
    "#p_name = re.compile('([A-Z][a-zA-Za-z]+) ([A-Z][A-Za-z]+)')\n",
    "found_name = name.findall(data)\n",
    "found_email = email.findall(data)\n",
    "#pp_name = p_name.findall(data)\n",
    "\n",
    "#print(pp_name)\n",
    "print(found_name)\n",
    "\n",
    "for x in data.split(\",\"):\n",
    "    match = name.search(x)\n",
    "    if match:\n",
    "        print(match.group())\n",
    "\n",
    "print(found_email)\n"
   ]
  },
  {
   "cell_type": "markdown",
   "metadata": {},
   "source": [
    "### Regex project\n",
    "\n",
    "Use python to read the file regex_test.txt and print the last name on each line using regular expressions and groups (return None for names with no first and last name, or names that aren't properly capitalized)\n",
    "##### Hint: use with open() and readlines()"
   ]
  },
  {
   "cell_type": "code",
   "execution_count": 144,
   "metadata": {},
   "outputs": [
    {
     "name": "stdout",
     "output_type": "stream",
     "text": [
      "['Abraham', 'Lincoln', 'Andrew', 'Garfield', 'Connor', 'Milliken', 'Jordan', 'Alexander', 'Williams', 'Madonna']\n",
      "Abraham\n",
      "['Abraham Lincoln\\n', 'Andrew P Garfield\\n', 'Connor Milliken\\n', 'Jordan Alexander Williams\\n', 'Madonna\\n', 'programming is cool\\n']\n"
     ]
    },
    {
     "data": {
      "text/plain": [
       "'\\nExpected Output\\nAbraham Lincoln\\nAndrew P Garfield\\nConnor Milliken\\nJordan Alexander Williams\\nNone\\nNone\\n'"
      ]
     },
     "execution_count": 144,
     "metadata": {},
     "output_type": "execute_result"
    }
   ],
   "source": [
    "with open('files/regex_test.txt') as f:\n",
    "    data1 = f.read()\n",
    "    \n",
    "good_names = re.compile('[A-Z][a-z]+')\n",
    "found_good_names = good_names.findall(data1)\n",
    "print(found_good_names)\n",
    "for x in data1.split(\",\"):\n",
    "    match = good_names.search(x)\n",
    "    if match:\n",
    "        print(match.group())\n",
    "        \n",
    "#f = open(\"files/regex_test.txt\",\"r\")\n",
    "#print(f.readlines())\n",
    "\n",
    "\"\"\"\n",
    "Expected Output\n",
    "Abraham Lincoln\n",
    "Andrew P Garfield\n",
    "Connor Milliken\n",
    "Jordan Alexander Williams\n",
    "None\n",
    "None\n",
    "\"\"\""
   ]
  },
  {
   "cell_type": "code",
   "execution_count": null,
   "metadata": {},
   "outputs": [],
   "source": []
  }
 ],
 "metadata": {
  "kernelspec": {
   "display_name": "Python 3",
   "language": "python",
   "name": "python3"
  },
  "language_info": {
   "codemirror_mode": {
    "name": "ipython",
    "version": 3
   },
   "file_extension": ".py",
   "mimetype": "text/x-python",
   "name": "python",
   "nbconvert_exporter": "python",
   "pygments_lexer": "ipython3",
   "version": "3.8.5"
  }
 },
 "nbformat": 4,
 "nbformat_minor": 2
}
